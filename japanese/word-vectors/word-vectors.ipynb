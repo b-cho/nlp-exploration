{
 "metadata": {
  "language_info": {
   "codemirror_mode": {
    "name": "ipython",
    "version": 3
   },
   "file_extension": ".py",
   "mimetype": "text/x-python",
   "name": "python",
   "nbconvert_exporter": "python",
   "pygments_lexer": "ipython3",
   "version": "3.7.5"
  },
  "orig_nbformat": 4,
  "kernelspec": {
   "name": "python3",
   "display_name": "Python 3.7.5 64-bit"
  },
  "interpreter": {
   "hash": "57baa5815c940fdaff4d14510622de9616cae602444507ba5d0b6727c008cbd6"
  }
 },
 "nbformat": 4,
 "nbformat_minor": 2,
 "cells": [
  {
   "cell_type": "code",
   "execution_count": 1,
   "metadata": {},
   "outputs": [],
   "source": [
    "import argparse\n",
    "from pathlib import Path\n",
    "from tqdm import tqdm\n",
    "from gensim.models import word2vec\n",
    "import spacy\n",
    "from spacy.language import Language"
   ]
  },
  {
   "cell_type": "code",
   "execution_count": 4,
   "metadata": {},
   "outputs": [
    {
     "output_type": "stream",
     "name": "stdout",
     "text": [
      "Reading from ..\\data\\hikari-no-naka-ni.txt\n"
     ]
    }
   ],
   "source": [
    "# Read input file (Japanese-language .txt file)\n",
    "input_path = Path(input('Input data path... (relative to this Jupyter notebook)'))\n",
    "print('Reading from {}'.format(input_path))\n",
    "input_file = open(input_path, mode='r', encoding='utf-8')\n",
    "input_text = input_file.read()"
   ]
  },
  {
   "cell_type": "code",
   "execution_count": 5,
   "metadata": {
    "tags": []
   },
   "outputs": [],
   "source": [
    "nlp = spacy.load('ja_core_news_sm') # Use spaCy\n",
    "nlp.add_pipe('sentencizer')\n",
    "doc = nlp(input_text) # Load text into spaCy"
   ]
  },
  {
   "cell_type": "code",
   "execution_count": 16,
   "metadata": {},
   "outputs": [],
   "source": [
    "sentences = [[token.lemma_ for token in sent if token.is_punct == False] for sent in doc.sents] # Tokenize and lemmatize the text, split into sentences"
   ]
  },
  {
   "cell_type": "code",
   "execution_count": 52,
   "metadata": {},
   "outputs": [
    {
     "output_type": "execute_result",
     "data": {
      "text/plain": [
       "(44242, 75290)"
      ]
     },
     "metadata": {},
     "execution_count": 52
    }
   ],
   "source": [
    "w2v_model = word2vec.Word2Vec(vector_size=16, window=5, min_count=1)\n",
    "w2v_model.build_vocab(sentences)\n",
    "w2v_model.train(sentences, total_examples=len(sentences), epochs=5)"
   ]
  },
  {
   "cell_type": "code",
   "execution_count": 43,
   "metadata": {},
   "outputs": [
    {
     "output_type": "execute_result",
     "data": {
      "text/plain": [
       "[('小雨', 0.8056584596633911),\n",
       " ('まとう', 0.7888652086257935),\n",
       " ('答える', 0.7888463139533997),\n",
       " ('立', 0.783509373664856),\n",
       " ('すくめる', 0.7770677208900452),\n",
       " ('ひんする', 0.7755157351493835),\n",
       " ('餓鬼', 0.7676728367805481),\n",
       " ('居眠り', 0.7666277885437012),\n",
       " ('下', 0.7646124362945557),\n",
       " ('横歩き', 0.7632537484169006)]"
      ]
     },
     "metadata": {},
     "execution_count": 43
    }
   ],
   "source": [
    "w2v_model.wv.most_similar('不思議')"
   ]
  }
 ]
}